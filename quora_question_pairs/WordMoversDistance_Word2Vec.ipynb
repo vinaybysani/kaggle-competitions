{
 "cells": [
  {
   "cell_type": "markdown",
   "metadata": {},
   "source": [
    "# WMD distance implementation using (gensim + google word2vec embeddings)"
   ]
  },
  {
   "cell_type": "code",
   "execution_count": 18,
   "metadata": {},
   "outputs": [],
   "source": [
    "from nltk.corpus import stopwords\n",
    "import pandas as pd\n",
    "import os\n",
    "from time import time\n",
    "import numpy as np"
   ]
  },
  {
   "cell_type": "code",
   "execution_count": 186,
   "metadata": {},
   "outputs": [],
   "source": [
    "train = pd.read_csv('data/train.csv')\n",
    "# test = pd.read_csv('data/test.csv')"
   ]
  },
  {
   "cell_type": "code",
   "execution_count": 187,
   "metadata": {},
   "outputs": [
    {
     "data": {
      "text/plain": [
       "404290"
      ]
     },
     "execution_count": 187,
     "metadata": {},
     "output_type": "execute_result"
    }
   ],
   "source": [
    "len(train)"
   ]
  },
  {
   "cell_type": "code",
   "execution_count": 188,
   "metadata": {},
   "outputs": [
    {
     "data": {
      "text/plain": [
       "323432"
      ]
     },
     "execution_count": 188,
     "metadata": {},
     "output_type": "execute_result"
    }
   ],
   "source": [
    "int(len(train)*0.8)"
   ]
  },
  {
   "cell_type": "markdown",
   "metadata": {},
   "source": [
    "## Split training dataset to (80% train + 20% test)"
   ]
  },
  {
   "cell_type": "code",
   "execution_count": 189,
   "metadata": {},
   "outputs": [],
   "source": [
    "# Since we dont have testing labels, lets split train dataset to (train + test) split\n",
    "train_len = int(len(train)*0.8)\n",
    "test = train[train_len:]\n",
    "train = train[:train_len]"
   ]
  },
  {
   "cell_type": "code",
   "execution_count": 190,
   "metadata": {},
   "outputs": [
    {
     "data": {
      "text/plain": [
       "323432"
      ]
     },
     "execution_count": 190,
     "metadata": {},
     "output_type": "execute_result"
    }
   ],
   "source": [
    "len(train)"
   ]
  },
  {
   "cell_type": "code",
   "execution_count": 191,
   "metadata": {},
   "outputs": [
    {
     "data": {
      "text/plain": [
       "80858"
      ]
     },
     "execution_count": 191,
     "metadata": {},
     "output_type": "execute_result"
    }
   ],
   "source": [
    "len(test)"
   ]
  },
  {
   "cell_type": "code",
   "execution_count": 192,
   "metadata": {},
   "outputs": [
    {
     "data": {
      "text/plain": [
       "id                                                              0\n",
       "qid1                                                            1\n",
       "qid2                                                            2\n",
       "question1       What is the step by step guide to invest in sh...\n",
       "question2       What is the step by step guide to invest in sh...\n",
       "is_duplicate                                                    0\n",
       "Name: 0, dtype: object"
      ]
     },
     "execution_count": 192,
     "metadata": {},
     "output_type": "execute_result"
    }
   ],
   "source": [
    "# Access first row\n",
    "train.iloc[0]"
   ]
  },
  {
   "cell_type": "code",
   "execution_count": 193,
   "metadata": {},
   "outputs": [
    {
     "data": {
      "text/plain": [
       "'What is the step by step guide to invest in share market in india?'"
      ]
     },
     "execution_count": 193,
     "metadata": {},
     "output_type": "execute_result"
    }
   ],
   "source": [
    "# Access column-question1, row-0\n",
    "train['question1'].iloc[0]"
   ]
  },
  {
   "cell_type": "code",
   "execution_count": 194,
   "metadata": {},
   "outputs": [],
   "source": [
    "stop_words = stopwords.words('english')"
   ]
  },
  {
   "cell_type": "code",
   "execution_count": 195,
   "metadata": {},
   "outputs": [
    {
     "data": {
      "text/plain": [
       "pandas.core.frame.DataFrame"
      ]
     },
     "execution_count": 195,
     "metadata": {},
     "output_type": "execute_result"
    }
   ],
   "source": [
    "type(train)"
   ]
  },
  {
   "cell_type": "code",
   "execution_count": 196,
   "metadata": {},
   "outputs": [
    {
     "name": "stdout",
     "output_type": "stream",
     "text": [
      "id                                                              0\n",
      "qid1                                                            1\n",
      "qid2                                                            2\n",
      "question1       What is the step by step guide to invest in sh...\n",
      "question2       What is the step by step guide to invest in sh...\n",
      "is_duplicate                                                    0\n",
      "Name: 0, dtype: object\n",
      "id                                                              1\n",
      "qid1                                                            3\n",
      "qid2                                                            4\n",
      "question1       What is the story of Kohinoor (Koh-i-Noor) Dia...\n",
      "question2       What would happen if the Indian government sto...\n",
      "is_duplicate                                                    0\n",
      "Name: 1, dtype: object\n",
      "id                                                              2\n",
      "qid1                                                            5\n",
      "qid2                                                            6\n",
      "question1       How can I increase the speed of my internet co...\n",
      "question2       How can Internet speed be increased by hacking...\n",
      "is_duplicate                                                    0\n",
      "Name: 2, dtype: object\n",
      "id                                                              3\n",
      "qid1                                                            7\n",
      "qid2                                                            8\n",
      "question1       Why am I mentally very lonely? How can I solve...\n",
      "question2       Find the remainder when [math]23^{24}[/math] i...\n",
      "is_duplicate                                                    0\n",
      "Name: 3, dtype: object\n",
      "id                                                              4\n",
      "qid1                                                            9\n",
      "qid2                                                           10\n",
      "question1       Which one dissolve in water quikly sugar, salt...\n",
      "question2                 Which fish would survive in salt water?\n",
      "is_duplicate                                                    0\n",
      "Name: 4, dtype: object\n"
     ]
    }
   ],
   "source": [
    "for idx, row in train.head().iterrows():\n",
    "    print(row)"
   ]
  },
  {
   "cell_type": "code",
   "execution_count": 197,
   "metadata": {},
   "outputs": [
    {
     "name": "stdout",
     "output_type": "stream",
     "text": [
      "What is the step by step guide to invest in share market in india?\n",
      "What is the story of Kohinoor (Koh-i-Noor) Diamond?\n",
      "How can I increase the speed of my internet connection while using a VPN?\n",
      "Why am I mentally very lonely? How can I solve it?\n",
      "Which one dissolve in water quikly sugar, salt, methane and carbon di oxide?\n"
     ]
    }
   ],
   "source": [
    "for idx, row in train.head().iterrows():\n",
    "    s1 = row['question1']\n",
    "    print(s1)"
   ]
  },
  {
   "cell_type": "markdown",
   "metadata": {},
   "source": [
    "## Preprocessing"
   ]
  },
  {
   "cell_type": "code",
   "execution_count": 198,
   "metadata": {},
   "outputs": [
    {
     "name": "stdout",
     "output_type": "stream",
     "text": [
      "['step', 'step', 'guide', 'invest', 'share', 'market', 'india?'] ['step', 'step', 'guide', 'invest', 'share', 'market?']\n"
     ]
    }
   ],
   "source": [
    "for idx, row in train.head(n=1).iterrows():\n",
    "    s1 = row['question1'].lower().split()\n",
    "    s2= row['question2'].lower().split()\n",
    "    \n",
    "    s1 = [i for i in s1 if i not in stop_words]\n",
    "    s2= [i for i in s2 if i not in stop_words]\n",
    "    print(s1, s2)"
   ]
  },
  {
   "cell_type": "code",
   "execution_count": 199,
   "metadata": {},
   "outputs": [],
   "source": [
    "'''\n",
    "we need some word embeddings first of all. You could train a word2vec model on some corpus, \n",
    "but we will start by downloading some pre-trained word2vec embeddings. Download the GoogleNews-vectors-negative300.bin.gz\n",
    "embeddings\n",
    "'''\n",
    "from gensim.models import Word2Vec\n",
    "from gensim.models import KeyedVectors\n",
    "\n",
    "if not os.path.exists('data/w2v_googlenews/GoogleNews-vectors-negative300.bin.gz'):\n",
    "    raise ValueError(\"SKIP: You need to download the google news model\")"
   ]
  },
  {
   "cell_type": "code",
   "execution_count": 200,
   "metadata": {},
   "outputs": [
    {
     "name": "stdout",
     "output_type": "stream",
     "text": [
      "Cell took 138.46 seconds to run.\n"
     ]
    }
   ],
   "source": [
    "start = time()\n",
    "model = KeyedVectors.load_word2vec_format('data/w2v_googlenews/GoogleNews-vectors-negative300.bin.gz', binary=True)\n",
    "print('Cell took %.2f seconds to run.' % (time() - start))"
   ]
  },
  {
   "cell_type": "markdown",
   "metadata": {},
   "source": [
    "## Word Mover's Distance basics\n",
    "WMD is a method that allows us to assess the \"distance\" between two documents in a meaningful way, \n",
    "even when they have no words in common. It uses word2vec vector embeddings of words. It been shown to outperform many of the\n",
    "state-of-the-art methods in k-nearest neighbors classification.  The sentences have no words in common, but by matching the\n",
    "relevant words, WMD is able to accurately measure the (dis)similarity between the two sentences. The method also uses the \n",
    "bag-of-words representation of the documents (simply put, the word's frequencies in the documents)\n",
    "\n",
    "The intution behind the method is that we find the minimum \"traveling distance\" between documents, in other words the most efficient way to \"move\" the distribution of document 1 to the distribution of document 2.\n",
    " \n",
    "WMD is illustrated below for two very similar sentences\n"
   ]
  },
  {
   "cell_type": "markdown",
   "metadata": {},
   "source": [
    "![title](Images/wmd.png)"
   ]
  },
  {
   "cell_type": "markdown",
   "metadata": {},
   "source": [
    "This method was introduced in the article \"From Word Embeddings To Document Distances\" by Matt Kusner et al. [blue_text](http://proceedings.mlr.press/v37/kusnerb15.pdf). It is inspired by the \"Earth Mover's Distance\", and employs a solver of the \"transportation problem\".\n",
    "\n",
    "In this tutorial, we will learn how to use Gensim's WMD functionality, which consists of the wmdistance method for distance computation, and the WmdSimilarity class for corpus based similarity queries."
   ]
  },
  {
   "cell_type": "code",
   "execution_count": 201,
   "metadata": {},
   "outputs": [
    {
     "name": "stdout",
     "output_type": "stream",
     "text": [
      "\n",
      " What is the step by step guide to invest in share market in india?\n",
      "What is the step by step guide to invest in share market?\n",
      "distance = 0.2949\n",
      "\n",
      " What is the story of Kohinoor (Koh-i-Noor) Diamond?\n",
      "What would happen if the Indian government stole the Kohinoor (Koh-i-Noor) diamond back?\n",
      "distance = 0.9528\n",
      "\n",
      " How can I increase the speed of my internet connection while using a VPN?\n",
      "How can Internet speed be increased by hacking through DNS?\n",
      "distance = 0.6550\n",
      "\n",
      " Why am I mentally very lonely? How can I solve it?\n",
      "Find the remainder when [math]23^{24}[/math] is divided by 24,23?\n",
      "distance = 1.4342\n",
      "\n",
      " Which one dissolve in water quikly sugar, salt, methane and carbon di oxide?\n",
      "Which fish would survive in salt water?\n",
      "distance = 0.8907\n",
      "\n",
      " Astrology: I am a Capricorn Sun Cap moon and cap rising...what does that say about me?\n",
      "I'm a triple Capricorn (Sun, Moon and ascendant in Capricorn) What does this say about me?\n",
      "distance = 0.4784\n",
      "\n",
      " Should I buy tiago?\n",
      "What keeps childern active and far from phone and video games?\n",
      "distance = 1.8693\n",
      "\n",
      " How can I be a good geologist?\n",
      "What should I do to be a great geologist?\n",
      "distance = 0.8763\n",
      "\n",
      " When do you use シ instead of し?\n",
      "When do you use \"&\" instead of \"and\"?\n",
      "distance = 0.2852\n",
      "\n",
      " Motorola (company): Can I hack my Charter Motorolla DCX3400?\n",
      "How do I hack Motorola DCX3400 for free internet?\n",
      "distance = 0.8213\n"
     ]
    }
   ],
   "source": [
    "# So let's compute WMD using the wmdistance method.\n",
    "for idx, row in train.head(n=10).iterrows():\n",
    "    q1 = row['question1']\n",
    "    q2 = row['question2']\n",
    "    print('\\n',q1)\n",
    "    print(q2)\n",
    "    distance = model.wmdistance(q1, q2)\n",
    "    print('distance = %.4f' % distance)"
   ]
  },
  {
   "cell_type": "markdown",
   "metadata": {},
   "source": [
    "## Calculate WMD distance from gensim model"
   ]
  },
  {
   "cell_type": "code",
   "execution_count": 202,
   "metadata": {},
   "outputs": [],
   "source": [
    "# Generate x_train and y_train\n",
    "x_train = [] # distances\n",
    "y_train = [] # is_duplicate\n",
    "for idx, row in train.iterrows():\n",
    "    q1 = row['question1']\n",
    "    q2 = row['question2']\n",
    "    try:\n",
    "        distance = model.wmdistance(q1, q2)\n",
    "        x_train.append(distance)\n",
    "        y_train.append(row['is_duplicate'])\n",
    "    except:\n",
    "        continue    "
   ]
  },
  {
   "cell_type": "code",
   "execution_count": 203,
   "metadata": {},
   "outputs": [
    {
     "data": {
      "text/plain": [
       "[inf,\n",
       " 3.697866162030013,\n",
       " 3.4708841502605083,\n",
       " 3.427613456417332,\n",
       " 3.335370726894855]"
      ]
     },
     "execution_count": 203,
     "metadata": {},
     "output_type": "execute_result"
    }
   ],
   "source": [
    "sorted(set(x_train), reverse=True)[:5]"
   ]
  },
  {
   "cell_type": "code",
   "execution_count": 204,
   "metadata": {},
   "outputs": [],
   "source": [
    "# Limitaion of gensim.models.Word2Vec.wmdistance\n",
    "# Note that if one of the documents have no words that exist in the Word2Vec vocab, float(‘inf’) (i.e. infinity) will be returned.\n",
    "# Hence replacing infinity with large distance\n",
    "for idx, val in enumerate(x_train):\n",
    "    if(np.isinf(val)):\n",
    "        x_train[idx] = 5 #large number"
   ]
  },
  {
   "cell_type": "code",
   "execution_count": 205,
   "metadata": {},
   "outputs": [
    {
     "data": {
      "text/plain": [
       "[5,\n",
       " 3.697866162030013,\n",
       " 3.4708841502605083,\n",
       " 3.427613456417332,\n",
       " 3.335370726894855]"
      ]
     },
     "execution_count": 205,
     "metadata": {},
     "output_type": "execute_result"
    }
   ],
   "source": [
    "sorted(set(x_train), reverse=True)[:5]"
   ]
  },
  {
   "cell_type": "markdown",
   "metadata": {},
   "source": [
    "## Training - Logistic Regression"
   ]
  },
  {
   "cell_type": "markdown",
   "metadata": {},
   "source": [
    "#### how about we try linear regression on wmd-distance"
   ]
  },
  {
   "cell_type": "code",
   "execution_count": 206,
   "metadata": {},
   "outputs": [
    {
     "name": "stderr",
     "output_type": "stream",
     "text": [
      "C:\\Users\\VinayBysani\\Anaconda3\\lib\\site-packages\\sklearn\\linear_model\\logistic.py:433: FutureWarning: Default solver will be changed to 'lbfgs' in 0.22. Specify a solver to silence this warning.\n",
      "  FutureWarning)\n",
      "C:\\Users\\VinayBysani\\Anaconda3\\lib\\site-packages\\sklearn\\utils\\validation.py:761: DataConversionWarning: A column-vector y was passed when a 1d array was expected. Please change the shape of y to (n_samples, ), for example using ravel().\n",
      "  y = column_or_1d(y, warn=True)\n"
     ]
    },
    {
     "data": {
      "text/plain": [
       "LogisticRegression(C=1.0, class_weight=None, dual=False, fit_intercept=True,\n",
       "          intercept_scaling=1, max_iter=100, multi_class='warn',\n",
       "          n_jobs=None, penalty='l2', random_state=None, solver='warn',\n",
       "          tol=0.0001, verbose=0, warm_start=False)"
      ]
     },
     "execution_count": 206,
     "metadata": {},
     "output_type": "execute_result"
    }
   ],
   "source": [
    "from sklearn.linear_model import LogisticRegression\n",
    "logmodel = LogisticRegression()\n",
    "\n",
    "# Reshape your data either using array.reshape(-1, 1) if your data has a single feature \n",
    "x_train = np.array(x_train).reshape(-1, 1)\n",
    "y_train = np.array(y_train).reshape(-1, 1)\n",
    "\n",
    "logmodel.fit(x_train,y_train)\n",
    "# regr.fit([x_train], [y_train])"
   ]
  },
  {
   "cell_type": "markdown",
   "metadata": {},
   "source": [
    "## Testing"
   ]
  },
  {
   "cell_type": "code",
   "execution_count": 207,
   "metadata": {},
   "outputs": [],
   "source": [
    "# Testing on training dataset from last, since we dont have access to testing labels\n",
    "x_test = [] # distances\n",
    "y_test = [] # is_duplicate\n",
    "for idx, row in test.iterrows():\n",
    "    q1 = row['question1']\n",
    "    q2 = row['question2']\n",
    "    try:\n",
    "        distance = model.wmdistance(q1, q2)\n",
    "        x_test.append(distance)\n",
    "        y_test.append(row['is_duplicate'])\n",
    "    except:\n",
    "        continue    "
   ]
  },
  {
   "cell_type": "code",
   "execution_count": 208,
   "metadata": {},
   "outputs": [
    {
     "data": {
      "text/plain": [
       "array([[0.29490848],\n",
       "       [0.95277931],\n",
       "       [0.65501835],\n",
       "       [1.43415995],\n",
       "       [0.89073397]])"
      ]
     },
     "execution_count": 208,
     "metadata": {},
     "output_type": "execute_result"
    }
   ],
   "source": [
    "x_train[:5]"
   ]
  },
  {
   "cell_type": "code",
   "execution_count": 209,
   "metadata": {},
   "outputs": [
    {
     "data": {
      "text/plain": [
       "[1.0716027899104503,\n",
       " 0.6324009618218077,\n",
       " 0.6573009572431007,\n",
       " 0.6319357305656796,\n",
       " 0.4830612627582875]"
      ]
     },
     "execution_count": 209,
     "metadata": {},
     "output_type": "execute_result"
    }
   ],
   "source": [
    "x_test[:5]"
   ]
  },
  {
   "cell_type": "code",
   "execution_count": 210,
   "metadata": {},
   "outputs": [],
   "source": [
    "# Limitaion of gensim.models.Word2Vec.wmdistance\n",
    "# Note that if one of the documents have no words that exist in the Word2Vec vocab, float(‘inf’) (i.e. infinity) will be returned.\n",
    "# Hence replacing infinity with large distance\n",
    "for idx, val in enumerate(x_test):\n",
    "    if(np.isinf(val)):\n",
    "        x_test[idx] = 5 #large number"
   ]
  },
  {
   "cell_type": "code",
   "execution_count": 211,
   "metadata": {},
   "outputs": [],
   "source": [
    "# Reshape your data either using array.reshape(-1, 1) if your data has a single feature \n",
    "x_test = np.array(x_test).reshape(-1, 1)\n",
    "# y_train = np.array(y_train).reshape(-1, 1)\n",
    "\n",
    "predicted = logmodel.predict(x_test)"
   ]
  },
  {
   "cell_type": "code",
   "execution_count": 212,
   "metadata": {},
   "outputs": [
    {
     "data": {
      "text/plain": [
       "80857"
      ]
     },
     "execution_count": 212,
     "metadata": {},
     "output_type": "execute_result"
    }
   ],
   "source": [
    "len(predicted)"
   ]
  },
  {
   "cell_type": "code",
   "execution_count": 217,
   "metadata": {},
   "outputs": [
    {
     "data": {
      "text/plain": [
       "80858"
      ]
     },
     "execution_count": 217,
     "metadata": {},
     "output_type": "execute_result"
    }
   ],
   "source": [
    "len(test)"
   ]
  },
  {
   "cell_type": "code",
   "execution_count": 213,
   "metadata": {},
   "outputs": [
    {
     "data": {
      "text/plain": [
       "array([0, 0, 0, 0, 0, 0, 0, 0, 0, 1])"
      ]
     },
     "execution_count": 213,
     "metadata": {},
     "output_type": "execute_result"
    }
   ],
   "source": [
    "predicted[:10]"
   ]
  },
  {
   "cell_type": "code",
   "execution_count": 214,
   "metadata": {},
   "outputs": [
    {
     "data": {
      "text/plain": [
       "[0, 1, 0, 1, 1, 1, 0, 0, 0, 1]"
      ]
     },
     "execution_count": 214,
     "metadata": {},
     "output_type": "execute_result"
    }
   ],
   "source": [
    "y_test[:10]"
   ]
  },
  {
   "cell_type": "code",
   "execution_count": 215,
   "metadata": {},
   "outputs": [
    {
     "data": {
      "text/plain": [
       "0.658681375762148"
      ]
     },
     "execution_count": 215,
     "metadata": {},
     "output_type": "execute_result"
    }
   ],
   "source": [
    "# Not going beyond 65% accuracy. We can get 50% accuracy in classification by flipping coin as well. So 65% is pretty dumb\n",
    "logmodel.score(x_test, y_test)"
   ]
  },
  {
   "cell_type": "code",
   "execution_count": 216,
   "metadata": {},
   "outputs": [
    {
     "ename": "IndexError",
     "evalue": "index 80857 is out of bounds for axis 0 with size 80857",
     "output_type": "error",
     "traceback": [
      "\u001b[1;31m---------------------------------------------------------------------------\u001b[0m",
      "\u001b[1;31mIndexError\u001b[0m                                Traceback (most recent call last)",
      "\u001b[1;32m<ipython-input-216-e9a9ecdf9018>\u001b[0m in \u001b[0;36m<module>\u001b[1;34m\u001b[0m\n\u001b[0;32m      3\u001b[0m \u001b[0mcorrect\u001b[0m \u001b[1;33m=\u001b[0m \u001b[1;36m0\u001b[0m\u001b[1;33m\u001b[0m\u001b[1;33m\u001b[0m\u001b[0m\n\u001b[0;32m      4\u001b[0m \u001b[1;32mfor\u001b[0m \u001b[0mi\u001b[0m \u001b[1;32min\u001b[0m \u001b[0mrange\u001b[0m\u001b[1;33m(\u001b[0m\u001b[0mlen\u001b[0m\u001b[1;33m(\u001b[0m\u001b[0mtest\u001b[0m\u001b[1;33m)\u001b[0m\u001b[1;33m)\u001b[0m\u001b[1;33m:\u001b[0m\u001b[1;33m\u001b[0m\u001b[1;33m\u001b[0m\u001b[0m\n\u001b[1;32m----> 5\u001b[1;33m     \u001b[1;32mif\u001b[0m\u001b[1;33m(\u001b[0m\u001b[0mpredicted\u001b[0m\u001b[1;33m[\u001b[0m\u001b[0mi\u001b[0m\u001b[1;33m]\u001b[0m \u001b[1;33m==\u001b[0m \u001b[0my_test\u001b[0m\u001b[1;33m[\u001b[0m\u001b[0mi\u001b[0m\u001b[1;33m]\u001b[0m\u001b[1;33m)\u001b[0m\u001b[1;33m:\u001b[0m\u001b[1;33m\u001b[0m\u001b[1;33m\u001b[0m\u001b[0m\n\u001b[0m\u001b[0;32m      6\u001b[0m         \u001b[0mcorrect\u001b[0m \u001b[1;33m+=\u001b[0m \u001b[1;36m1\u001b[0m\u001b[1;33m\u001b[0m\u001b[1;33m\u001b[0m\u001b[0m\n\u001b[0;32m      7\u001b[0m \u001b[0mprint\u001b[0m\u001b[1;33m(\u001b[0m\u001b[0mcorrect\u001b[0m\u001b[1;33m/\u001b[0m\u001b[0mlen\u001b[0m\u001b[1;33m(\u001b[0m\u001b[0mtest\u001b[0m\u001b[1;33m)\u001b[0m\u001b[1;33m*\u001b[0m\u001b[1;36m100\u001b[0m\u001b[1;33m)\u001b[0m\u001b[1;33m\u001b[0m\u001b[1;33m\u001b[0m\u001b[0m\n",
      "\u001b[1;31mIndexError\u001b[0m: index 80857 is out of bounds for axis 0 with size 80857"
     ]
    }
   ],
   "source": [
    "\n",
    "# Validates entire training set\n",
    "correct = 0\n",
    "for i in range(len(test)):\n",
    "    if(predicted[i] == y_test[i]):\n",
    "        correct += 1\n",
    "print(correct/len(test)*100)"
   ]
  },
  {
   "cell_type": "code",
   "execution_count": null,
   "metadata": {},
   "outputs": [],
   "source": []
  }
 ],
 "metadata": {
  "kernelspec": {
   "display_name": "Python 3",
   "language": "python",
   "name": "python3"
  },
  "language_info": {
   "codemirror_mode": {
    "name": "ipython",
    "version": 3
   },
   "file_extension": ".py",
   "mimetype": "text/x-python",
   "name": "python",
   "nbconvert_exporter": "python",
   "pygments_lexer": "ipython3",
   "version": "3.6.0"
  }
 },
 "nbformat": 4,
 "nbformat_minor": 2
}
